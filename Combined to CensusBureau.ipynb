{
 "cells": [
  {
   "cell_type": "code",
   "execution_count": 1,
   "id": "74f35d9c-e749-4355-b49a-3410171f3e3d",
   "metadata": {},
   "outputs": [],
   "source": [
    "import pandas as pd\n",
    "df1=pd.read_csv('Demographics cleaned.csv')\n",
    "df2=pd.read_csv('Credit Bureau Cleaned.csv')"
   ]
  },
  {
   "cell_type": "code",
   "execution_count": 3,
   "id": "d0532644-7d36-4e67-818d-be4dae5e90a8",
   "metadata": {},
   "outputs": [],
   "source": [
    "df1.reset_index(drop=True, inplace=True)\n",
    "df2.reset_index(drop=True, inplace=True)\n",
    "df = pd.concat([df1, df2], axis=1)"
   ]
  },
  {
   "cell_type": "code",
   "execution_count": 5,
   "id": "0011b73c-afce-4f04-9121-87bd11517ae3",
   "metadata": {},
   "outputs": [],
   "source": [
    "data = df.copy()                               # Create duplicate of data\n",
    "data = data.replace(r'^s*$', float('NaN'), regex = True)  # Replace blanks by NaN"
   ]
  },
  {
   "cell_type": "code",
   "execution_count": 6,
   "id": "590bb774-1151-4151-8dee-8efd16838bf4",
   "metadata": {},
   "outputs": [],
   "source": [
    "data2 = data.copy()                          # Create duplicate of data\n",
    "data2.dropna(inplace = True)            "
   ]
  },
  {
   "cell_type": "code",
   "execution_count": 9,
   "id": "4e870984-4f4c-40b4-a2ff-71066b0dbb15",
   "metadata": {},
   "outputs": [],
   "source": [
    "data2.to_csv(\"CensusBureau.csv\")"
   ]
  },
  {
   "cell_type": "code",
   "execution_count": null,
   "id": "2ff0936b-ddf1-4bb1-af62-6c8425efc9cb",
   "metadata": {},
   "outputs": [],
   "source": []
  }
 ],
 "metadata": {
  "kernelspec": {
   "display_name": "Python 3",
   "language": "python",
   "name": "python3"
  },
  "language_info": {
   "codemirror_mode": {
    "name": "ipython",
    "version": 3
   },
   "file_extension": ".py",
   "mimetype": "text/x-python",
   "name": "python",
   "nbconvert_exporter": "python",
   "pygments_lexer": "ipython3",
   "version": "3.8.8"
  }
 },
 "nbformat": 4,
 "nbformat_minor": 5
}
