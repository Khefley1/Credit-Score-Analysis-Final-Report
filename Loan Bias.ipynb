{
 "cells": [
  {
   "cell_type": "code",
   "execution_count": 1,
   "id": "f2fb48ef-215e-4123-842b-8259e609a36f",
   "metadata": {},
   "outputs": [],
   "source": [
    "import pandas as pd"
   ]
  },
  {
   "cell_type": "code",
   "execution_count": 2,
   "id": "d09c1334-070b-43c4-b6e2-8a297e68acc9",
   "metadata": {},
   "outputs": [],
   "source": [
    "Biases=pd.read_csv('RM.csv')"
   ]
  },
  {
   "cell_type": "code",
   "execution_count": 3,
   "id": "f793765b-201a-4d60-9d4e-9965f3188a88",
   "metadata": {},
   "outputs": [],
   "source": [
    "from sklearn.ensemble import ExtraTreesClassifier"
   ]
  },
  {
   "cell_type": "code",
   "execution_count": 4,
   "id": "860563e8-030e-4137-a767-e35be287ca36",
   "metadata": {},
   "outputs": [
    {
     "data": {
      "text/html": [
       "<div>\n",
       "<style scoped>\n",
       "    .dataframe tbody tr th:only-of-type {\n",
       "        vertical-align: middle;\n",
       "    }\n",
       "\n",
       "    .dataframe tbody tr th {\n",
       "        vertical-align: top;\n",
       "    }\n",
       "\n",
       "    .dataframe thead th {\n",
       "        text-align: right;\n",
       "    }\n",
       "</style>\n",
       "<table border=\"1\" class=\"dataframe\">\n",
       "  <thead>\n",
       "    <tr style=\"text-align: right;\">\n",
       "      <th></th>\n",
       "      <th>SUMMARY OUTPUT</th>\n",
       "      <th>Unnamed: 1</th>\n",
       "      <th>Unnamed: 2</th>\n",
       "      <th>Unnamed: 3</th>\n",
       "      <th>Unnamed: 4</th>\n",
       "      <th>Unnamed: 5</th>\n",
       "      <th>Unnamed: 6</th>\n",
       "      <th>Unnamed: 7</th>\n",
       "      <th>Unnamed: 8</th>\n",
       "    </tr>\n",
       "  </thead>\n",
       "  <tbody>\n",
       "    <tr>\n",
       "      <th>0</th>\n",
       "      <td>NaN</td>\n",
       "      <td>NaN</td>\n",
       "      <td>NaN</td>\n",
       "      <td>NaN</td>\n",
       "      <td>NaN</td>\n",
       "      <td>NaN</td>\n",
       "      <td>NaN</td>\n",
       "      <td>NaN</td>\n",
       "      <td>NaN</td>\n",
       "    </tr>\n",
       "    <tr>\n",
       "      <th>1</th>\n",
       "      <td>Regression Statistics</td>\n",
       "      <td>NaN</td>\n",
       "      <td>NaN</td>\n",
       "      <td>NaN</td>\n",
       "      <td>NaN</td>\n",
       "      <td>NaN</td>\n",
       "      <td>NaN</td>\n",
       "      <td>NaN</td>\n",
       "      <td>NaN</td>\n",
       "    </tr>\n",
       "    <tr>\n",
       "      <th>2</th>\n",
       "      <td>Multiple R</td>\n",
       "      <td>0.023302352</td>\n",
       "      <td>NaN</td>\n",
       "      <td>NaN</td>\n",
       "      <td>NaN</td>\n",
       "      <td>NaN</td>\n",
       "      <td>NaN</td>\n",
       "      <td>NaN</td>\n",
       "      <td>NaN</td>\n",
       "    </tr>\n",
       "    <tr>\n",
       "      <th>3</th>\n",
       "      <td>R Square</td>\n",
       "      <td>0.000543</td>\n",
       "      <td>NaN</td>\n",
       "      <td>NaN</td>\n",
       "      <td>NaN</td>\n",
       "      <td>NaN</td>\n",
       "      <td>NaN</td>\n",
       "      <td>NaN</td>\n",
       "      <td>NaN</td>\n",
       "    </tr>\n",
       "    <tr>\n",
       "      <th>4</th>\n",
       "      <td>Adjusted R Square</td>\n",
       "      <td>0.000419579</td>\n",
       "      <td>NaN</td>\n",
       "      <td>NaN</td>\n",
       "      <td>NaN</td>\n",
       "      <td>NaN</td>\n",
       "      <td>NaN</td>\n",
       "      <td>NaN</td>\n",
       "      <td>NaN</td>\n",
       "    </tr>\n",
       "  </tbody>\n",
       "</table>\n",
       "</div>"
      ],
      "text/plain": [
       "          SUMMARY OUTPUT   Unnamed: 1 Unnamed: 2 Unnamed: 3 Unnamed: 4  \\\n",
       "0                    NaN          NaN        NaN        NaN        NaN   \n",
       "1  Regression Statistics          NaN        NaN        NaN        NaN   \n",
       "2             Multiple R  0.023302352        NaN        NaN        NaN   \n",
       "3               R Square     0.000543        NaN        NaN        NaN   \n",
       "4      Adjusted R Square  0.000419579        NaN        NaN        NaN   \n",
       "\n",
       "  Unnamed: 5 Unnamed: 6 Unnamed: 7 Unnamed: 8  \n",
       "0        NaN        NaN        NaN        NaN  \n",
       "1        NaN        NaN        NaN        NaN  \n",
       "2        NaN        NaN        NaN        NaN  \n",
       "3        NaN        NaN        NaN        NaN  \n",
       "4        NaN        NaN        NaN        NaN  "
      ]
     },
     "execution_count": 4,
     "metadata": {},
     "output_type": "execute_result"
    }
   ],
   "source": [
    "Biases.head()"
   ]
  },
  {
   "cell_type": "code",
   "execution_count": 5,
   "id": "ef5e3fa0-e6f9-4931-94ff-cdb348fdeb44",
   "metadata": {},
   "outputs": [
    {
     "name": "stdout",
     "output_type": "stream",
     "text": [
      "           SUMMARY OUTPUT    Unnamed: 1      Unnamed: 2   Unnamed: 3  \\\n",
      "0                     NaN           NaN             NaN          NaN   \n",
      "1   Regression Statistics           NaN             NaN          NaN   \n",
      "2              Multiple R   0.023302352             NaN          NaN   \n",
      "3                R Square      0.000543             NaN          NaN   \n",
      "4       Adjusted R Square   0.000419579             NaN          NaN   \n",
      "5          Standard Error   0.855592988             NaN          NaN   \n",
      "6            Observations          8100             NaN          NaN   \n",
      "7                     NaN           NaN             NaN          NaN   \n",
      "8                   ANOVA           NaN             NaN          NaN   \n",
      "9                     NaN            df              SS           MS   \n",
      "10             Regression             1     3.220680239  3.220680239   \n",
      "11               Residual          8098     5928.054752  0.732039362   \n",
      "12                  Total          8099     5931.275432          NaN   \n",
      "13                    NaN           NaN             NaN          NaN   \n",
      "14                    NaN  Coefficients  Standard Error       t Stat   \n",
      "15              Intercept   1.227192909     0.017357426  70.70131978   \n",
      "16                      3   0.019371707     0.009235519  2.097522303   \n",
      "\n",
      "     Unnamed: 4      Unnamed: 5   Unnamed: 6   Unnamed: 7   Unnamed: 8  \n",
      "0           NaN             NaN          NaN          NaN          NaN  \n",
      "1           NaN             NaN          NaN          NaN          NaN  \n",
      "2           NaN             NaN          NaN          NaN          NaN  \n",
      "3           NaN             NaN          NaN          NaN          NaN  \n",
      "4           NaN             NaN          NaN          NaN          NaN  \n",
      "5           NaN             NaN          NaN          NaN          NaN  \n",
      "6           NaN             NaN          NaN          NaN          NaN  \n",
      "7           NaN             NaN          NaN          NaN          NaN  \n",
      "8           NaN             NaN          NaN          NaN          NaN  \n",
      "9             F  Significance F          NaN          NaN          NaN  \n",
      "10  4.399599812     0.035978286          NaN          NaN          NaN  \n",
      "11          NaN             NaN          NaN          NaN          NaN  \n",
      "12          NaN             NaN          NaN          NaN          NaN  \n",
      "13          NaN             NaN          NaN          NaN          NaN  \n",
      "14      P-value       Lower 95%    Upper 95%  Lower 95.0%  Upper 95.0%  \n",
      "15            0     1.193167895  1.261217924  1.193167895  1.261217924  \n",
      "16  0.035978286     0.001267717  0.037475698  0.001267717  0.037475698  \n"
     ]
    }
   ],
   "source": [
    "data = Biases.copy()                               # Create duplicate of data\n",
    "data = data.replace(r'^s*$', float('NaN'), regex = True)  # Replace blanks by NaN\n",
    "print(data)          "
   ]
  },
  {
   "cell_type": "code",
   "execution_count": 8,
   "id": "796b58d2-045e-412d-a2c4-e521139176f6",
   "metadata": {},
   "outputs": [
    {
     "name": "stdout",
     "output_type": "stream",
     "text": [
      "   SUMMARY OUTPUT   Unnamed: 1   Unnamed: 2   Unnamed: 3   Unnamed: 4  \\\n",
      "15      Intercept  1.227192909  0.017357426  70.70131978            0   \n",
      "16              3  0.019371707  0.009235519  2.097522303  0.035978286   \n",
      "\n",
      "     Unnamed: 5   Unnamed: 6   Unnamed: 7   Unnamed: 8  \n",
      "15  1.193167895  1.261217924  1.193167895  1.261217924  \n",
      "16  0.001267717  0.037475698  0.001267717  0.037475698  \n"
     ]
    }
   ],
   "source": [
    "data2 = data.copy()                          # Create duplicate of data\n",
    "data2.dropna(inplace = True)                      # Remove rows with NaN\n",
    "print(data2)   "
   ]
  },
  {
   "cell_type": "code",
   "execution_count": 7,
   "id": "bb069a73-839b-4584-b02f-0c3fb584450b",
   "metadata": {},
   "outputs": [
    {
     "data": {
      "text/html": [
       "<div>\n",
       "<style scoped>\n",
       "    .dataframe tbody tr th:only-of-type {\n",
       "        vertical-align: middle;\n",
       "    }\n",
       "\n",
       "    .dataframe tbody tr th {\n",
       "        vertical-align: top;\n",
       "    }\n",
       "\n",
       "    .dataframe thead th {\n",
       "        text-align: right;\n",
       "    }\n",
       "</style>\n",
       "<table border=\"1\" class=\"dataframe\">\n",
       "  <thead>\n",
       "    <tr style=\"text-align: right;\">\n",
       "      <th></th>\n",
       "      <th>SUMMARY OUTPUT</th>\n",
       "      <th>Unnamed: 1</th>\n",
       "      <th>Unnamed: 2</th>\n",
       "      <th>Unnamed: 3</th>\n",
       "      <th>Unnamed: 4</th>\n",
       "      <th>Unnamed: 5</th>\n",
       "      <th>Unnamed: 6</th>\n",
       "      <th>Unnamed: 7</th>\n",
       "      <th>Unnamed: 8</th>\n",
       "    </tr>\n",
       "  </thead>\n",
       "  <tbody>\n",
       "    <tr>\n",
       "      <th>15</th>\n",
       "      <td>Intercept</td>\n",
       "      <td>1.227192909</td>\n",
       "      <td>0.017357426</td>\n",
       "      <td>70.70131978</td>\n",
       "      <td>0</td>\n",
       "      <td>1.193167895</td>\n",
       "      <td>1.261217924</td>\n",
       "      <td>1.193167895</td>\n",
       "      <td>1.261217924</td>\n",
       "    </tr>\n",
       "    <tr>\n",
       "      <th>16</th>\n",
       "      <td>3</td>\n",
       "      <td>0.019371707</td>\n",
       "      <td>0.009235519</td>\n",
       "      <td>2.097522303</td>\n",
       "      <td>0.035978286</td>\n",
       "      <td>0.001267717</td>\n",
       "      <td>0.037475698</td>\n",
       "      <td>0.001267717</td>\n",
       "      <td>0.037475698</td>\n",
       "    </tr>\n",
       "  </tbody>\n",
       "</table>\n",
       "</div>"
      ],
      "text/plain": [
       "   SUMMARY OUTPUT   Unnamed: 1   Unnamed: 2   Unnamed: 3   Unnamed: 4  \\\n",
       "15      Intercept  1.227192909  0.017357426  70.70131978            0   \n",
       "16              3  0.019371707  0.009235519  2.097522303  0.035978286   \n",
       "\n",
       "     Unnamed: 5   Unnamed: 6   Unnamed: 7   Unnamed: 8  \n",
       "15  1.193167895  1.261217924  1.193167895  1.261217924  \n",
       "16  0.001267717  0.037475698  0.001267717  0.037475698  "
      ]
     },
     "execution_count": 7,
     "metadata": {},
     "output_type": "execute_result"
    }
   ],
   "source": [
    "data2.head()"
   ]
  },
  {
   "cell_type": "code",
   "execution_count": 9,
   "id": "41ea16f4-3151-4dfb-8154-df3a93370247",
   "metadata": {},
   "outputs": [
    {
     "ename": "ValueError",
     "evalue": "could not convert string to float: 'Intercept'",
     "output_type": "error",
     "traceback": [
      "\u001b[1;31m---------------------------------------------------------------------------\u001b[0m",
      "\u001b[1;31mValueError\u001b[0m                                Traceback (most recent call last)",
      "\u001b[1;32m<ipython-input-9-2fefda1326a6>\u001b[0m in \u001b[0;36m<module>\u001b[1;34m\u001b[0m\n\u001b[0;32m      4\u001b[0m \u001b[1;31m# feature extraction\u001b[0m\u001b[1;33m\u001b[0m\u001b[1;33m\u001b[0m\u001b[1;33m\u001b[0m\u001b[0m\n\u001b[0;32m      5\u001b[0m \u001b[0mmodel\u001b[0m \u001b[1;33m=\u001b[0m \u001b[0mExtraTreesClassifier\u001b[0m\u001b[1;33m(\u001b[0m\u001b[0mn_estimators\u001b[0m\u001b[1;33m=\u001b[0m\u001b[1;36m16\u001b[0m\u001b[1;33m)\u001b[0m\u001b[1;33m\u001b[0m\u001b[1;33m\u001b[0m\u001b[0m\n\u001b[1;32m----> 6\u001b[1;33m \u001b[0mmodel\u001b[0m\u001b[1;33m.\u001b[0m\u001b[0mfit\u001b[0m\u001b[1;33m(\u001b[0m\u001b[0mX\u001b[0m\u001b[1;33m,\u001b[0m \u001b[0mY\u001b[0m\u001b[1;33m)\u001b[0m\u001b[1;33m\u001b[0m\u001b[1;33m\u001b[0m\u001b[0m\n\u001b[0m\u001b[0;32m      7\u001b[0m \u001b[0mprint\u001b[0m\u001b[1;33m(\u001b[0m\u001b[0mmodel\u001b[0m\u001b[1;33m.\u001b[0m\u001b[0mfeature_importances_\u001b[0m\u001b[1;33m)\u001b[0m\u001b[1;33m\u001b[0m\u001b[1;33m\u001b[0m\u001b[0m\n",
      "\u001b[1;32m~\\anaconda3\\lib\\site-packages\\sklearn\\ensemble\\_forest.py\u001b[0m in \u001b[0;36mfit\u001b[1;34m(self, X, y, sample_weight)\u001b[0m\n\u001b[0;32m    302\u001b[0m                 \u001b[1;34m\"sparse multilabel-indicator for y is not supported.\"\u001b[0m\u001b[1;33m\u001b[0m\u001b[1;33m\u001b[0m\u001b[0m\n\u001b[0;32m    303\u001b[0m             )\n\u001b[1;32m--> 304\u001b[1;33m         X, y = self._validate_data(X, y, multi_output=True,\n\u001b[0m\u001b[0;32m    305\u001b[0m                                    accept_sparse=\"csc\", dtype=DTYPE)\n\u001b[0;32m    306\u001b[0m         \u001b[1;32mif\u001b[0m \u001b[0msample_weight\u001b[0m \u001b[1;32mis\u001b[0m \u001b[1;32mnot\u001b[0m \u001b[1;32mNone\u001b[0m\u001b[1;33m:\u001b[0m\u001b[1;33m\u001b[0m\u001b[1;33m\u001b[0m\u001b[0m\n",
      "\u001b[1;32m~\\anaconda3\\lib\\site-packages\\sklearn\\base.py\u001b[0m in \u001b[0;36m_validate_data\u001b[1;34m(self, X, y, reset, validate_separately, **check_params)\u001b[0m\n\u001b[0;32m    431\u001b[0m                 \u001b[0my\u001b[0m \u001b[1;33m=\u001b[0m \u001b[0mcheck_array\u001b[0m\u001b[1;33m(\u001b[0m\u001b[0my\u001b[0m\u001b[1;33m,\u001b[0m \u001b[1;33m**\u001b[0m\u001b[0mcheck_y_params\u001b[0m\u001b[1;33m)\u001b[0m\u001b[1;33m\u001b[0m\u001b[1;33m\u001b[0m\u001b[0m\n\u001b[0;32m    432\u001b[0m             \u001b[1;32melse\u001b[0m\u001b[1;33m:\u001b[0m\u001b[1;33m\u001b[0m\u001b[1;33m\u001b[0m\u001b[0m\n\u001b[1;32m--> 433\u001b[1;33m                 \u001b[0mX\u001b[0m\u001b[1;33m,\u001b[0m \u001b[0my\u001b[0m \u001b[1;33m=\u001b[0m \u001b[0mcheck_X_y\u001b[0m\u001b[1;33m(\u001b[0m\u001b[0mX\u001b[0m\u001b[1;33m,\u001b[0m \u001b[0my\u001b[0m\u001b[1;33m,\u001b[0m \u001b[1;33m**\u001b[0m\u001b[0mcheck_params\u001b[0m\u001b[1;33m)\u001b[0m\u001b[1;33m\u001b[0m\u001b[1;33m\u001b[0m\u001b[0m\n\u001b[0m\u001b[0;32m    434\u001b[0m             \u001b[0mout\u001b[0m \u001b[1;33m=\u001b[0m \u001b[0mX\u001b[0m\u001b[1;33m,\u001b[0m \u001b[0my\u001b[0m\u001b[1;33m\u001b[0m\u001b[1;33m\u001b[0m\u001b[0m\n\u001b[0;32m    435\u001b[0m \u001b[1;33m\u001b[0m\u001b[0m\n",
      "\u001b[1;32m~\\anaconda3\\lib\\site-packages\\sklearn\\utils\\validation.py\u001b[0m in \u001b[0;36minner_f\u001b[1;34m(*args, **kwargs)\u001b[0m\n\u001b[0;32m     61\u001b[0m             \u001b[0mextra_args\u001b[0m \u001b[1;33m=\u001b[0m \u001b[0mlen\u001b[0m\u001b[1;33m(\u001b[0m\u001b[0margs\u001b[0m\u001b[1;33m)\u001b[0m \u001b[1;33m-\u001b[0m \u001b[0mlen\u001b[0m\u001b[1;33m(\u001b[0m\u001b[0mall_args\u001b[0m\u001b[1;33m)\u001b[0m\u001b[1;33m\u001b[0m\u001b[1;33m\u001b[0m\u001b[0m\n\u001b[0;32m     62\u001b[0m             \u001b[1;32mif\u001b[0m \u001b[0mextra_args\u001b[0m \u001b[1;33m<=\u001b[0m \u001b[1;36m0\u001b[0m\u001b[1;33m:\u001b[0m\u001b[1;33m\u001b[0m\u001b[1;33m\u001b[0m\u001b[0m\n\u001b[1;32m---> 63\u001b[1;33m                 \u001b[1;32mreturn\u001b[0m \u001b[0mf\u001b[0m\u001b[1;33m(\u001b[0m\u001b[1;33m*\u001b[0m\u001b[0margs\u001b[0m\u001b[1;33m,\u001b[0m \u001b[1;33m**\u001b[0m\u001b[0mkwargs\u001b[0m\u001b[1;33m)\u001b[0m\u001b[1;33m\u001b[0m\u001b[1;33m\u001b[0m\u001b[0m\n\u001b[0m\u001b[0;32m     64\u001b[0m \u001b[1;33m\u001b[0m\u001b[0m\n\u001b[0;32m     65\u001b[0m             \u001b[1;31m# extra_args > 0\u001b[0m\u001b[1;33m\u001b[0m\u001b[1;33m\u001b[0m\u001b[1;33m\u001b[0m\u001b[0m\n",
      "\u001b[1;32m~\\anaconda3\\lib\\site-packages\\sklearn\\utils\\validation.py\u001b[0m in \u001b[0;36mcheck_X_y\u001b[1;34m(X, y, accept_sparse, accept_large_sparse, dtype, order, copy, force_all_finite, ensure_2d, allow_nd, multi_output, ensure_min_samples, ensure_min_features, y_numeric, estimator)\u001b[0m\n\u001b[0;32m    869\u001b[0m         \u001b[1;32mraise\u001b[0m \u001b[0mValueError\u001b[0m\u001b[1;33m(\u001b[0m\u001b[1;34m\"y cannot be None\"\u001b[0m\u001b[1;33m)\u001b[0m\u001b[1;33m\u001b[0m\u001b[1;33m\u001b[0m\u001b[0m\n\u001b[0;32m    870\u001b[0m \u001b[1;33m\u001b[0m\u001b[0m\n\u001b[1;32m--> 871\u001b[1;33m     X = check_array(X, accept_sparse=accept_sparse,\n\u001b[0m\u001b[0;32m    872\u001b[0m                     \u001b[0maccept_large_sparse\u001b[0m\u001b[1;33m=\u001b[0m\u001b[0maccept_large_sparse\u001b[0m\u001b[1;33m,\u001b[0m\u001b[1;33m\u001b[0m\u001b[1;33m\u001b[0m\u001b[0m\n\u001b[0;32m    873\u001b[0m                     \u001b[0mdtype\u001b[0m\u001b[1;33m=\u001b[0m\u001b[0mdtype\u001b[0m\u001b[1;33m,\u001b[0m \u001b[0morder\u001b[0m\u001b[1;33m=\u001b[0m\u001b[0morder\u001b[0m\u001b[1;33m,\u001b[0m \u001b[0mcopy\u001b[0m\u001b[1;33m=\u001b[0m\u001b[0mcopy\u001b[0m\u001b[1;33m,\u001b[0m\u001b[1;33m\u001b[0m\u001b[1;33m\u001b[0m\u001b[0m\n",
      "\u001b[1;32m~\\anaconda3\\lib\\site-packages\\sklearn\\utils\\validation.py\u001b[0m in \u001b[0;36minner_f\u001b[1;34m(*args, **kwargs)\u001b[0m\n\u001b[0;32m     61\u001b[0m             \u001b[0mextra_args\u001b[0m \u001b[1;33m=\u001b[0m \u001b[0mlen\u001b[0m\u001b[1;33m(\u001b[0m\u001b[0margs\u001b[0m\u001b[1;33m)\u001b[0m \u001b[1;33m-\u001b[0m \u001b[0mlen\u001b[0m\u001b[1;33m(\u001b[0m\u001b[0mall_args\u001b[0m\u001b[1;33m)\u001b[0m\u001b[1;33m\u001b[0m\u001b[1;33m\u001b[0m\u001b[0m\n\u001b[0;32m     62\u001b[0m             \u001b[1;32mif\u001b[0m \u001b[0mextra_args\u001b[0m \u001b[1;33m<=\u001b[0m \u001b[1;36m0\u001b[0m\u001b[1;33m:\u001b[0m\u001b[1;33m\u001b[0m\u001b[1;33m\u001b[0m\u001b[0m\n\u001b[1;32m---> 63\u001b[1;33m                 \u001b[1;32mreturn\u001b[0m \u001b[0mf\u001b[0m\u001b[1;33m(\u001b[0m\u001b[1;33m*\u001b[0m\u001b[0margs\u001b[0m\u001b[1;33m,\u001b[0m \u001b[1;33m**\u001b[0m\u001b[0mkwargs\u001b[0m\u001b[1;33m)\u001b[0m\u001b[1;33m\u001b[0m\u001b[1;33m\u001b[0m\u001b[0m\n\u001b[0m\u001b[0;32m     64\u001b[0m \u001b[1;33m\u001b[0m\u001b[0m\n\u001b[0;32m     65\u001b[0m             \u001b[1;31m# extra_args > 0\u001b[0m\u001b[1;33m\u001b[0m\u001b[1;33m\u001b[0m\u001b[1;33m\u001b[0m\u001b[0m\n",
      "\u001b[1;32m~\\anaconda3\\lib\\site-packages\\sklearn\\utils\\validation.py\u001b[0m in \u001b[0;36mcheck_array\u001b[1;34m(array, accept_sparse, accept_large_sparse, dtype, order, copy, force_all_finite, ensure_2d, allow_nd, ensure_min_samples, ensure_min_features, estimator)\u001b[0m\n\u001b[0;32m    671\u001b[0m                     \u001b[0marray\u001b[0m \u001b[1;33m=\u001b[0m \u001b[0marray\u001b[0m\u001b[1;33m.\u001b[0m\u001b[0mastype\u001b[0m\u001b[1;33m(\u001b[0m\u001b[0mdtype\u001b[0m\u001b[1;33m,\u001b[0m \u001b[0mcasting\u001b[0m\u001b[1;33m=\u001b[0m\u001b[1;34m\"unsafe\"\u001b[0m\u001b[1;33m,\u001b[0m \u001b[0mcopy\u001b[0m\u001b[1;33m=\u001b[0m\u001b[1;32mFalse\u001b[0m\u001b[1;33m)\u001b[0m\u001b[1;33m\u001b[0m\u001b[1;33m\u001b[0m\u001b[0m\n\u001b[0;32m    672\u001b[0m                 \u001b[1;32melse\u001b[0m\u001b[1;33m:\u001b[0m\u001b[1;33m\u001b[0m\u001b[1;33m\u001b[0m\u001b[0m\n\u001b[1;32m--> 673\u001b[1;33m                     \u001b[0marray\u001b[0m \u001b[1;33m=\u001b[0m \u001b[0mnp\u001b[0m\u001b[1;33m.\u001b[0m\u001b[0masarray\u001b[0m\u001b[1;33m(\u001b[0m\u001b[0marray\u001b[0m\u001b[1;33m,\u001b[0m \u001b[0morder\u001b[0m\u001b[1;33m=\u001b[0m\u001b[0morder\u001b[0m\u001b[1;33m,\u001b[0m \u001b[0mdtype\u001b[0m\u001b[1;33m=\u001b[0m\u001b[0mdtype\u001b[0m\u001b[1;33m)\u001b[0m\u001b[1;33m\u001b[0m\u001b[1;33m\u001b[0m\u001b[0m\n\u001b[0m\u001b[0;32m    674\u001b[0m             \u001b[1;32mexcept\u001b[0m \u001b[0mComplexWarning\u001b[0m \u001b[1;32mas\u001b[0m \u001b[0mcomplex_warning\u001b[0m\u001b[1;33m:\u001b[0m\u001b[1;33m\u001b[0m\u001b[1;33m\u001b[0m\u001b[0m\n\u001b[0;32m    675\u001b[0m                 raise ValueError(\"Complex data not supported\\n\"\n",
      "\u001b[1;31mValueError\u001b[0m: could not convert string to float: 'Intercept'"
     ]
    }
   ],
   "source": [
    "array = data2.values\n",
    "X = array[:,0:19]\n",
    "Y = array[:,5]\n",
    "# feature extraction\n",
    "model = ExtraTreesClassifier(n_estimators=16)\n",
    "model.fit(X, Y)\n",
    "print(model.feature_importances_)"
   ]
  },
  {
   "cell_type": "code",
   "execution_count": 15,
   "id": "62842aa7-780e-47a4-9e31-3c5f507f4e6d",
   "metadata": {},
   "outputs": [],
   "source": [
    "from sklearn.tree import DecisionTreeClassifier # Import Decision Tree Classifier\n",
    "from sklearn.model_selection import train_test_split # Import train_test_split function\n",
    "from sklearn import metrics"
   ]
  },
  {
   "cell_type": "code",
   "execution_count": 16,
   "id": "ff8ccfa5-292d-473d-8367-73ebb8b4698e",
   "metadata": {},
   "outputs": [],
   "source": [
    "feature_cols = ['income', 'occupancy_type', 'debt_to_income_ratio', 'hoepa_status','applicant_credit_score_type','derived_race']\n",
    "X = data2[feature_cols] # Features\n",
    "y = data2.action_taken"
   ]
  },
  {
   "cell_type": "code",
   "execution_count": 17,
   "id": "2a02f8ff-f1c3-45ca-a579-c0bc4722e89a",
   "metadata": {},
   "outputs": [],
   "source": [
    "X_train, X_test, y_train, y_test = train_test_split(X, y, test_size=0.3, random_state=1) # 70% training and 30% test"
   ]
  },
  {
   "cell_type": "code",
   "execution_count": 18,
   "id": "3e940b1f-7d0f-4ad2-8d47-efa65f4f5719",
   "metadata": {},
   "outputs": [],
   "source": [
    "# Create Decision Tree classifer object\n",
    "clf = DecisionTreeClassifier()\n",
    "\n",
    "# Train Decision Tree Classifer\n",
    "clf = clf.fit(X_train,y_train)\n",
    "\n",
    "#Predict the response for test dataset\n",
    "y_pred = clf.predict(X_test)"
   ]
  },
  {
   "cell_type": "code",
   "execution_count": 19,
   "id": "db3d851a-5ae3-4412-b63c-7f6bd263f1e4",
   "metadata": {},
   "outputs": [
    {
     "name": "stdout",
     "output_type": "stream",
     "text": [
      "Accuracy: 0.9604156358238496\n"
     ]
    }
   ],
   "source": [
    "print(\"Accuracy:\",metrics.accuracy_score(y_test, y_pred))"
   ]
  },
  {
   "cell_type": "code",
   "execution_count": 38,
   "id": "bc1e89d7-9916-4551-81f4-9e3003668b9c",
   "metadata": {},
   "outputs": [
    {
     "data": {
      "text/plain": [
       "LinearRegression()"
      ]
     },
     "execution_count": 38,
     "metadata": {},
     "output_type": "execute_result"
    }
   ],
   "source": [
    "from sklearn.linear_model import LinearRegression\n",
    "regressor = LinearRegression()\n",
    "regressor.fit(X_train, y_train)"
   ]
  },
  {
   "cell_type": "code",
   "execution_count": 39,
   "id": "67e968ef-76b9-4fac-999b-7e7fde5e3555",
   "metadata": {},
   "outputs": [
    {
     "name": "stdout",
     "output_type": "stream",
     "text": [
      "-1.8967074932646393\n"
     ]
    }
   ],
   "source": [
    "print(regressor.intercept_)"
   ]
  },
  {
   "cell_type": "code",
   "execution_count": 40,
   "id": "700951ae-4565-4f1b-ba25-5ba850138390",
   "metadata": {},
   "outputs": [
    {
     "name": "stdout",
     "output_type": "stream",
     "text": [
      "[-3.62736582e-04 -8.29091784e-01 -1.17332371e-04  1.87223677e+00\n",
      "  5.33652278e-03  2.87135850e-03]\n"
     ]
    }
   ],
   "source": [
    "print(regressor.coef_)"
   ]
  },
  {
   "cell_type": "code",
   "execution_count": 42,
   "id": "c64fb0ee-7fab-476c-8940-480ed3282700",
   "metadata": {},
   "outputs": [
    {
     "data": {
      "text/html": [
       "<div>\n",
       "<style scoped>\n",
       "    .dataframe tbody tr th:only-of-type {\n",
       "        vertical-align: middle;\n",
       "    }\n",
       "\n",
       "    .dataframe tbody tr th {\n",
       "        vertical-align: top;\n",
       "    }\n",
       "\n",
       "    .dataframe thead th {\n",
       "        text-align: right;\n",
       "    }\n",
       "</style>\n",
       "<table border=\"1\" class=\"dataframe\">\n",
       "  <thead>\n",
       "    <tr style=\"text-align: right;\">\n",
       "      <th></th>\n",
       "      <th>Actual</th>\n",
       "      <th>Predicted</th>\n",
       "    </tr>\n",
       "  </thead>\n",
       "  <tbody>\n",
       "    <tr>\n",
       "      <th>6513</th>\n",
       "      <td>1</td>\n",
       "      <td>1.008491</td>\n",
       "    </tr>\n",
       "    <tr>\n",
       "      <th>2749</th>\n",
       "      <td>1</td>\n",
       "      <td>1.012370</td>\n",
       "    </tr>\n",
       "    <tr>\n",
       "      <th>1809</th>\n",
       "      <td>1</td>\n",
       "      <td>0.986616</td>\n",
       "    </tr>\n",
       "    <tr>\n",
       "      <th>3963</th>\n",
       "      <td>3</td>\n",
       "      <td>2.895081</td>\n",
       "    </tr>\n",
       "    <tr>\n",
       "      <th>2169</th>\n",
       "      <td>1</td>\n",
       "      <td>1.015272</td>\n",
       "    </tr>\n",
       "    <tr>\n",
       "      <th>...</th>\n",
       "      <td>...</td>\n",
       "      <td>...</td>\n",
       "    </tr>\n",
       "    <tr>\n",
       "      <th>7709</th>\n",
       "      <td>1</td>\n",
       "      <td>0.979724</td>\n",
       "    </tr>\n",
       "    <tr>\n",
       "      <th>7281</th>\n",
       "      <td>1</td>\n",
       "      <td>1.016934</td>\n",
       "    </tr>\n",
       "    <tr>\n",
       "      <th>5829</th>\n",
       "      <td>1</td>\n",
       "      <td>1.025219</td>\n",
       "    </tr>\n",
       "    <tr>\n",
       "      <th>5951</th>\n",
       "      <td>1</td>\n",
       "      <td>1.015128</td>\n",
       "    </tr>\n",
       "    <tr>\n",
       "      <th>3186</th>\n",
       "      <td>1</td>\n",
       "      <td>1.004648</td>\n",
       "    </tr>\n",
       "  </tbody>\n",
       "</table>\n",
       "<p>2021 rows × 2 columns</p>\n",
       "</div>"
      ],
      "text/plain": [
       "      Actual  Predicted\n",
       "6513       1   1.008491\n",
       "2749       1   1.012370\n",
       "1809       1   0.986616\n",
       "3963       3   2.895081\n",
       "2169       1   1.015272\n",
       "...      ...        ...\n",
       "7709       1   0.979724\n",
       "7281       1   1.016934\n",
       "5829       1   1.025219\n",
       "5951       1   1.015128\n",
       "3186       1   1.004648\n",
       "\n",
       "[2021 rows x 2 columns]"
      ]
     },
     "execution_count": 42,
     "metadata": {},
     "output_type": "execute_result"
    }
   ],
   "source": [
    "df = pd.DataFrame({'Actual': y_test, 'Predicted': y_pred})\n",
    "df"
   ]
  },
  {
   "cell_type": "code",
   "execution_count": 45,
   "id": "332d1944-c34c-4739-b480-670f87c6e4b2",
   "metadata": {},
   "outputs": [
    {
     "name": "stdout",
     "output_type": "stream",
     "text": [
      "Mean Absolute Error: 0.07548630148561256\n",
      "Mean Squared Error: 0.05061590090994213\n",
      "Root Mean Squared Error: 0.22497977889121976\n"
     ]
    }
   ],
   "source": [
    "from sklearn import metrics\n",
    "import numpy as np\n",
    "print('Mean Absolute Error:', metrics.mean_absolute_error(y_test, y_pred))\n",
    "print('Mean Squared Error:', metrics.mean_squared_error(y_test, y_pred))\n",
    "print('Root Mean Squared Error:', np.sqrt(metrics.mean_squared_error(y_test, y_pred)))"
   ]
  },
  {
   "cell_type": "code",
   "execution_count": 46,
   "id": "99d7a12f-ebe2-4059-8184-550b5d893391",
   "metadata": {},
   "outputs": [],
   "source": [
    "Biases=pd.read_csv('RM.csv')"
   ]
  },
  {
   "cell_type": "code",
   "execution_count": 51,
   "id": "6866d208-117b-4160-9afc-d62d7e653c92",
   "metadata": {},
   "outputs": [
    {
     "name": "stdout",
     "output_type": "stream",
     "text": [
      "      App ID  county_code  derived_race  derived_sex  action_taken  \\\n",
      "0        549        29099             1            1             3   \n",
      "1        550        29099             1            1             1   \n",
      "2        551        29189             4            2             3   \n",
      "3        552        29099             1            2             3   \n",
      "4        553        29047             4            3             3   \n",
      "...      ...          ...           ...          ...           ...   \n",
      "8096   14100        29019             1            2             1   \n",
      "8097   14103        29095             1            1             1   \n",
      "8098   14104        29007             1            1             1   \n",
      "8099   14107        29099             1            1             1   \n",
      "8100   14108        29209             1            1             3   \n",
      "\n",
      "      purchaser_type  preapproval  loan_type  loan_purpose  lien_status  \\\n",
      "0                  0            2          2             1            1   \n",
      "1                  2            2          4             1            1   \n",
      "2                  0            2          3             1            1   \n",
      "3                  0            2          4             1            1   \n",
      "4                  0            2          2             1            1   \n",
      "...              ...          ...        ...           ...          ...   \n",
      "8096               1            2          1            31            1   \n",
      "8097               3            2          1            32            1   \n",
      "8098               1            2          1            31            1   \n",
      "8099               2            2          3            31            1   \n",
      "8100               0            2          1            31            1   \n",
      "\n",
      "      business_or_commercial_purpose  loan_amount  hoepa_status  \\\n",
      "0                                  2       115000             3   \n",
      "1                                  2       245000             2   \n",
      "2                                  2        95000             3   \n",
      "3                                  2       155000             3   \n",
      "4                                  2       105000             3   \n",
      "...                              ...          ...           ...   \n",
      "8096                               2       185000             2   \n",
      "8097                               2       185000             2   \n",
      "8098                               2       145000             2   \n",
      "8099                               2       115000             2   \n",
      "8100                               2       125000             3   \n",
      "\n",
      "      property_value  occupancy_type  income  debt_to_income_ratio  \\\n",
      "0             115000               1      49                 0.400   \n",
      "1                  0               1       0                   NaN   \n",
      "2              95000               1      44                 0.360   \n",
      "3                  0               1       0                   NaN   \n",
      "4             115000               1      34                 0.550   \n",
      "...              ...             ...     ...                   ...   \n",
      "8096          315000               1      94                 0.025   \n",
      "8097          305000               1     163                 0.020   \n",
      "8098          205000               1      59                 0.410   \n",
      "8099          145000               1       0                   NaN   \n",
      "8100          605000               1      89                 0.020   \n",
      "\n",
      "      applicant_credit_score_type  applicant_ethnicity_1  \n",
      "0                               1                      2  \n",
      "1                               3                      2  \n",
      "2                               1                      2  \n",
      "3                               3                      2  \n",
      "4                               3                      1  \n",
      "...                           ...                    ...  \n",
      "8096                            3                      2  \n",
      "8097                            3                      2  \n",
      "8098                            3                      2  \n",
      "8099                            2                      2  \n",
      "8100                            2                      2  \n",
      "\n",
      "[8101 rows x 19 columns]\n"
     ]
    }
   ],
   "source": [
    "data = Biases.copy()                               # Create duplicate of data\n",
    "data = data.replace(r'^s*$', float('NaN'), regex = True)  # Replace blanks by NaN\n",
    "print(data)       "
   ]
  },
  {
   "cell_type": "code",
   "execution_count": 55,
   "id": "c1edddc8-64c8-412f-848a-31ef994276b2",
   "metadata": {},
   "outputs": [
    {
     "name": "stdout",
     "output_type": "stream",
     "text": [
      "      App ID  county_code  derived_race  derived_sex  action_taken  \\\n",
      "0        549        29099             1            1             3   \n",
      "2        551        29189             4            2             3   \n",
      "4        553        29047             4            3             3   \n",
      "6        558        29097             1            2             1   \n",
      "11       563        29047             1            2             3   \n",
      "...      ...          ...           ...          ...           ...   \n",
      "8095   14098        29213             1            1             3   \n",
      "8096   14100        29019             1            2             1   \n",
      "8097   14103        29095             1            1             1   \n",
      "8098   14104        29007             1            1             1   \n",
      "8100   14108        29209             1            1             3   \n",
      "\n",
      "      purchaser_type  preapproval  loan_type  loan_purpose  lien_status  \\\n",
      "0                  0            2          2             1            1   \n",
      "2                  0            2          3             1            1   \n",
      "4                  0            2          2             1            1   \n",
      "6                  9            2          2             1            1   \n",
      "11                 0            2          2            31            1   \n",
      "...              ...          ...        ...           ...          ...   \n",
      "8095               0            2          1             1            1   \n",
      "8096               1            2          1            31            1   \n",
      "8097               3            2          1            32            1   \n",
      "8098               1            2          1            31            1   \n",
      "8100               0            2          1            31            1   \n",
      "\n",
      "      business_or_commercial_purpose  loan_amount  hoepa_status  \\\n",
      "0                                  2       115000             3   \n",
      "2                                  2        95000             3   \n",
      "4                                  2       105000             3   \n",
      "6                                  2       165000             2   \n",
      "11                                 2       115000             3   \n",
      "...                              ...          ...           ...   \n",
      "8095                               2        75000             3   \n",
      "8096                               2       185000             2   \n",
      "8097                               2       185000             2   \n",
      "8098                               2       145000             2   \n",
      "8100                               2       125000             3   \n",
      "\n",
      "      property_value  occupancy_type  income  debt_to_income_ratio  \\\n",
      "0             115000               1      49                 0.400   \n",
      "2              95000               1      44                 0.360   \n",
      "4             115000               1      34                 0.550   \n",
      "6             175000               1     115                 0.020   \n",
      "11            145000               1      97                 0.020   \n",
      "...              ...             ...     ...                   ...   \n",
      "8095           75000               1      35                 0.410   \n",
      "8096          315000               1      94                 0.025   \n",
      "8097          305000               1     163                 0.020   \n",
      "8098          205000               1      59                 0.410   \n",
      "8100          605000               1      89                 0.020   \n",
      "\n",
      "      applicant_credit_score_type  applicant_ethnicity_1  \n",
      "0                               1                      2  \n",
      "2                               1                      2  \n",
      "4                               3                      1  \n",
      "6                               2                      2  \n",
      "11                              3                      2  \n",
      "...                           ...                    ...  \n",
      "8095                            3                      2  \n",
      "8096                            3                      2  \n",
      "8097                            3                      2  \n",
      "8098                            3                      2  \n",
      "8100                            2                      2  \n",
      "\n",
      "[6735 rows x 19 columns]\n"
     ]
    }
   ],
   "source": [
    "data2 = data.copy()                          # Create duplicate of data\n",
    "data2.dropna(inplace = True)                      # Remove rows with NaN\n",
    "print(data2)   "
   ]
  },
  {
   "cell_type": "code",
   "execution_count": 56,
   "id": "2bb0921a-d045-4824-bc84-10b25030dfe4",
   "metadata": {},
   "outputs": [],
   "source": [
    "X = data2[['income', 'occupancy_type', 'debt_to_income_ratio', 'hoepa_status','applicant_credit_score_type','derived_race']]\n",
    "y = data2['action_taken']"
   ]
  },
  {
   "cell_type": "code",
   "execution_count": 57,
   "id": "e26296ad-f202-41ee-910d-f5050e6410ff",
   "metadata": {},
   "outputs": [],
   "source": [
    "from sklearn.model_selection import train_test_split\n",
    "X_train, X_test, y_train, y_test = train_test_split(X, y, test_size=0.3, random_state=1)"
   ]
  },
  {
   "cell_type": "code",
   "execution_count": 58,
   "id": "6732f9a8-4708-4fef-a970-6ceee9de618a",
   "metadata": {},
   "outputs": [
    {
     "data": {
      "text/plain": [
       "LinearRegression()"
      ]
     },
     "execution_count": 58,
     "metadata": {},
     "output_type": "execute_result"
    }
   ],
   "source": [
    "from sklearn.linear_model import LinearRegression\n",
    "regressor = LinearRegression()\n",
    "regressor.fit(X_train, y_train)"
   ]
  },
  {
   "cell_type": "code",
   "execution_count": 59,
   "id": "6af044ac-c6fd-4aea-8f3c-c4e55ae50157",
   "metadata": {},
   "outputs": [
    {
     "data": {
      "text/html": [
       "<div>\n",
       "<style scoped>\n",
       "    .dataframe tbody tr th:only-of-type {\n",
       "        vertical-align: middle;\n",
       "    }\n",
       "\n",
       "    .dataframe tbody tr th {\n",
       "        vertical-align: top;\n",
       "    }\n",
       "\n",
       "    .dataframe thead th {\n",
       "        text-align: right;\n",
       "    }\n",
       "</style>\n",
       "<table border=\"1\" class=\"dataframe\">\n",
       "  <thead>\n",
       "    <tr style=\"text-align: right;\">\n",
       "      <th></th>\n",
       "      <th>Coefficient</th>\n",
       "    </tr>\n",
       "  </thead>\n",
       "  <tbody>\n",
       "    <tr>\n",
       "      <th>income</th>\n",
       "      <td>-0.000363</td>\n",
       "    </tr>\n",
       "    <tr>\n",
       "      <th>occupancy_type</th>\n",
       "      <td>-0.829092</td>\n",
       "    </tr>\n",
       "    <tr>\n",
       "      <th>debt_to_income_ratio</th>\n",
       "      <td>-0.000117</td>\n",
       "    </tr>\n",
       "    <tr>\n",
       "      <th>hoepa_status</th>\n",
       "      <td>1.872237</td>\n",
       "    </tr>\n",
       "    <tr>\n",
       "      <th>applicant_credit_score_type</th>\n",
       "      <td>0.005337</td>\n",
       "    </tr>\n",
       "    <tr>\n",
       "      <th>derived_race</th>\n",
       "      <td>0.002871</td>\n",
       "    </tr>\n",
       "  </tbody>\n",
       "</table>\n",
       "</div>"
      ],
      "text/plain": [
       "                             Coefficient\n",
       "income                         -0.000363\n",
       "occupancy_type                 -0.829092\n",
       "debt_to_income_ratio           -0.000117\n",
       "hoepa_status                    1.872237\n",
       "applicant_credit_score_type     0.005337\n",
       "derived_race                    0.002871"
      ]
     },
     "execution_count": 59,
     "metadata": {},
     "output_type": "execute_result"
    }
   ],
   "source": [
    "coeff_df = pd.DataFrame(regressor.coef_, X.columns, columns=['Coefficient'])\n",
    "coeff_df"
   ]
  },
  {
   "cell_type": "code",
   "execution_count": 60,
   "id": "a14be055-07be-4760-8212-c9998373cf3a",
   "metadata": {},
   "outputs": [],
   "source": [
    "y_pred = regressor.predict(X_test)"
   ]
  },
  {
   "cell_type": "code",
   "execution_count": 61,
   "id": "71de90f6-e5e0-4c04-96ee-de007ca78c7a",
   "metadata": {},
   "outputs": [
    {
     "data": {
      "text/html": [
       "<div>\n",
       "<style scoped>\n",
       "    .dataframe tbody tr th:only-of-type {\n",
       "        vertical-align: middle;\n",
       "    }\n",
       "\n",
       "    .dataframe tbody tr th {\n",
       "        vertical-align: top;\n",
       "    }\n",
       "\n",
       "    .dataframe thead th {\n",
       "        text-align: right;\n",
       "    }\n",
       "</style>\n",
       "<table border=\"1\" class=\"dataframe\">\n",
       "  <thead>\n",
       "    <tr style=\"text-align: right;\">\n",
       "      <th></th>\n",
       "      <th>Actual</th>\n",
       "      <th>Predicted</th>\n",
       "    </tr>\n",
       "  </thead>\n",
       "  <tbody>\n",
       "    <tr>\n",
       "      <th>6513</th>\n",
       "      <td>1</td>\n",
       "      <td>1.008491</td>\n",
       "    </tr>\n",
       "    <tr>\n",
       "      <th>2749</th>\n",
       "      <td>1</td>\n",
       "      <td>1.012370</td>\n",
       "    </tr>\n",
       "    <tr>\n",
       "      <th>1809</th>\n",
       "      <td>1</td>\n",
       "      <td>0.986616</td>\n",
       "    </tr>\n",
       "    <tr>\n",
       "      <th>3963</th>\n",
       "      <td>3</td>\n",
       "      <td>2.895081</td>\n",
       "    </tr>\n",
       "    <tr>\n",
       "      <th>2169</th>\n",
       "      <td>1</td>\n",
       "      <td>1.015272</td>\n",
       "    </tr>\n",
       "    <tr>\n",
       "      <th>...</th>\n",
       "      <td>...</td>\n",
       "      <td>...</td>\n",
       "    </tr>\n",
       "    <tr>\n",
       "      <th>7709</th>\n",
       "      <td>1</td>\n",
       "      <td>0.979724</td>\n",
       "    </tr>\n",
       "    <tr>\n",
       "      <th>7281</th>\n",
       "      <td>1</td>\n",
       "      <td>1.016934</td>\n",
       "    </tr>\n",
       "    <tr>\n",
       "      <th>5829</th>\n",
       "      <td>1</td>\n",
       "      <td>1.025219</td>\n",
       "    </tr>\n",
       "    <tr>\n",
       "      <th>5951</th>\n",
       "      <td>1</td>\n",
       "      <td>1.015128</td>\n",
       "    </tr>\n",
       "    <tr>\n",
       "      <th>3186</th>\n",
       "      <td>1</td>\n",
       "      <td>1.004648</td>\n",
       "    </tr>\n",
       "  </tbody>\n",
       "</table>\n",
       "<p>2021 rows × 2 columns</p>\n",
       "</div>"
      ],
      "text/plain": [
       "      Actual  Predicted\n",
       "6513       1   1.008491\n",
       "2749       1   1.012370\n",
       "1809       1   0.986616\n",
       "3963       3   2.895081\n",
       "2169       1   1.015272\n",
       "...      ...        ...\n",
       "7709       1   0.979724\n",
       "7281       1   1.016934\n",
       "5829       1   1.025219\n",
       "5951       1   1.015128\n",
       "3186       1   1.004648\n",
       "\n",
       "[2021 rows x 2 columns]"
      ]
     },
     "execution_count": 61,
     "metadata": {},
     "output_type": "execute_result"
    }
   ],
   "source": [
    "df = pd.DataFrame({'Actual': y_test, 'Predicted': y_pred})\n",
    "df"
   ]
  },
  {
   "cell_type": "code",
   "execution_count": 62,
   "id": "bdeb3915-682e-4738-bf44-7462af186a06",
   "metadata": {},
   "outputs": [
    {
     "name": "stdout",
     "output_type": "stream",
     "text": [
      "Mean Absolute Error: 0.07548630148561256\n",
      "Mean Squared Error: 0.05061590090994213\n",
      "Root Mean Squared Error: 0.22497977889121976\n"
     ]
    }
   ],
   "source": [
    "from sklearn import metrics\n",
    "print('Mean Absolute Error:', metrics.mean_absolute_error(y_test, y_pred))\n",
    "print('Mean Squared Error:', metrics.mean_squared_error(y_test, y_pred))\n",
    "print('Root Mean Squared Error:', np.sqrt(metrics.mean_squared_error(y_test, y_pred)))"
   ]
  },
  {
   "cell_type": "code",
   "execution_count": 64,
   "id": "6dd0d36b-54d6-43ee-8ddc-3d26238dfe12",
   "metadata": {},
   "outputs": [],
   "source": [
    "X = data2[['applicant_ethnicity_1', 'derived_sex', 'debt_to_income_ratio', 'hoepa_status','applicant_credit_score_type','derived_race', 'county_code']]\n",
    "y = data2['action_taken']"
   ]
  },
  {
   "cell_type": "code",
   "execution_count": 65,
   "id": "66c0769d-80e6-404a-943c-52fed232e2f7",
   "metadata": {},
   "outputs": [],
   "source": [
    "from sklearn.model_selection import train_test_split\n",
    "X_train, X_test, y_train, y_test = train_test_split(X, y, test_size=0.3, random_state=1)"
   ]
  },
  {
   "cell_type": "code",
   "execution_count": 66,
   "id": "2f4aa5dc-8451-4b24-9de3-7a011c136e34",
   "metadata": {},
   "outputs": [
    {
     "data": {
      "text/plain": [
       "LinearRegression()"
      ]
     },
     "execution_count": 66,
     "metadata": {},
     "output_type": "execute_result"
    }
   ],
   "source": [
    "from sklearn.linear_model import LinearRegression\n",
    "regressor = LinearRegression()\n",
    "regressor.fit(X_train, y_train)"
   ]
  },
  {
   "cell_type": "code",
   "execution_count": 67,
   "id": "131f25ae-455d-4a55-9f79-577cff33bf3a",
   "metadata": {},
   "outputs": [
    {
     "data": {
      "text/html": [
       "<div>\n",
       "<style scoped>\n",
       "    .dataframe tbody tr th:only-of-type {\n",
       "        vertical-align: middle;\n",
       "    }\n",
       "\n",
       "    .dataframe tbody tr th {\n",
       "        vertical-align: top;\n",
       "    }\n",
       "\n",
       "    .dataframe thead th {\n",
       "        text-align: right;\n",
       "    }\n",
       "</style>\n",
       "<table border=\"1\" class=\"dataframe\">\n",
       "  <thead>\n",
       "    <tr style=\"text-align: right;\">\n",
       "      <th></th>\n",
       "      <th>Coefficient</th>\n",
       "    </tr>\n",
       "  </thead>\n",
       "  <tbody>\n",
       "    <tr>\n",
       "      <th>applicant_ethnicity_1</th>\n",
       "      <td>-0.001035</td>\n",
       "    </tr>\n",
       "    <tr>\n",
       "      <th>derived_sex</th>\n",
       "      <td>0.014841</td>\n",
       "    </tr>\n",
       "    <tr>\n",
       "      <th>debt_to_income_ratio</th>\n",
       "      <td>0.000019</td>\n",
       "    </tr>\n",
       "    <tr>\n",
       "      <th>hoepa_status</th>\n",
       "      <td>1.759874</td>\n",
       "    </tr>\n",
       "    <tr>\n",
       "      <th>applicant_credit_score_type</th>\n",
       "      <td>0.007325</td>\n",
       "    </tr>\n",
       "    <tr>\n",
       "      <th>derived_race</th>\n",
       "      <td>0.003180</td>\n",
       "    </tr>\n",
       "    <tr>\n",
       "      <th>county_code</th>\n",
       "      <td>-0.000033</td>\n",
       "    </tr>\n",
       "  </tbody>\n",
       "</table>\n",
       "</div>"
      ],
      "text/plain": [
       "                             Coefficient\n",
       "applicant_ethnicity_1          -0.001035\n",
       "derived_sex                     0.014841\n",
       "debt_to_income_ratio            0.000019\n",
       "hoepa_status                    1.759874\n",
       "applicant_credit_score_type     0.007325\n",
       "derived_race                    0.003180\n",
       "county_code                    -0.000033"
      ]
     },
     "execution_count": 67,
     "metadata": {},
     "output_type": "execute_result"
    }
   ],
   "source": [
    "coeff_df = pd.DataFrame(regressor.coef_, X.columns, columns=['Coefficient'])\n",
    "coeff_df"
   ]
  },
  {
   "cell_type": "code",
   "execution_count": 68,
   "id": "333ea606-24e7-48bb-bc2b-03922218a5c5",
   "metadata": {},
   "outputs": [
    {
     "name": "stdout",
     "output_type": "stream",
     "text": [
      "Mean Absolute Error: 0.07548630148561256\n",
      "Mean Squared Error: 0.05061590090994213\n",
      "Root Mean Squared Error: 0.22497977889121976\n"
     ]
    }
   ],
   "source": [
    "from sklearn import metrics\n",
    "import numpy as np\n",
    "print('Mean Absolute Error:', metrics.mean_absolute_error(y_test, y_pred))\n",
    "print('Mean Squared Error:', metrics.mean_squared_error(y_test, y_pred))\n",
    "print('Root Mean Squared Error:', np.sqrt(metrics.mean_squared_error(y_test, y_pred)))"
   ]
  },
  {
   "cell_type": "code",
   "execution_count": null,
   "id": "1ae6721c-132f-4207-b7b6-028c15555f2b",
   "metadata": {},
   "outputs": [],
   "source": []
  }
 ],
 "metadata": {
  "kernelspec": {
   "display_name": "Python 3",
   "language": "python",
   "name": "python3"
  },
  "language_info": {
   "codemirror_mode": {
    "name": "ipython",
    "version": 3
   },
   "file_extension": ".py",
   "mimetype": "text/x-python",
   "name": "python",
   "nbconvert_exporter": "python",
   "pygments_lexer": "ipython3",
   "version": "3.8.8"
  }
 },
 "nbformat": 4,
 "nbformat_minor": 5
}
