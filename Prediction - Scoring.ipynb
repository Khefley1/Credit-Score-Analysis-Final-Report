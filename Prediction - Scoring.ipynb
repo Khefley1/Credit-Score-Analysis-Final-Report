{
 "cells": [
  {
   "cell_type": "code",
   "execution_count": 106,
   "id": "ec984b53-f13a-48fa-9ff5-32d3f68a07e9",
   "metadata": {},
   "outputs": [],
   "source": [
    "import pandas as pd\n",
    "df1=pd.read_csv('Demographics cleaned.csv')\n",
    "df2=pd.read_csv('Credit Bureau Cleaned.csv')"
   ]
  },
  {
   "cell_type": "code",
   "execution_count": 107,
   "id": "5b01c79f-9c84-4254-96cb-c5e145900172",
   "metadata": {},
   "outputs": [],
   "source": [
    "df1.reset_index(drop=True, inplace=True)\n",
    "df2.reset_index(drop=True, inplace=True)\n",
    "df = pd.concat([df1, df2], axis=1)"
   ]
  },
  {
   "cell_type": "code",
   "execution_count": 108,
   "id": "f003bae7-a08d-4555-a97c-fc035a5b6460",
   "metadata": {},
   "outputs": [],
   "source": [
    "DC=df.dropna()"
   ]
  },
  {
   "cell_type": "code",
   "execution_count": 109,
   "id": "9f6d155f-0993-4230-bcc6-d52fe071a2e6",
   "metadata": {},
   "outputs": [],
   "source": [
    "from sklearn.ensemble import ExtraTreesClassifier"
   ]
  },
  {
   "cell_type": "code",
   "execution_count": 110,
   "id": "9be28b77-0df0-4df5-87ca-1d031e151161",
   "metadata": {},
   "outputs": [
    {
     "name": "stdout",
     "output_type": "stream",
     "text": [
      "Index(['Application ID', 'Age', 'Gender',\n",
      "       'Marital Status (at the time of application)', 'No of dependents',\n",
      "       'Income', 'Education', 'Type of residence',\n",
      "       'No of months in current residence', 'No of months in current company',\n",
      "       'Performance Tag', 'Unnamed: 0', 'Application ID',\n",
      "       'No of times 90 DPD or worse in last 6 months',\n",
      "       'No of times 60 DPD or worse in last 6 months',\n",
      "       'No of times 30 DPD or worse in last 6 months',\n",
      "       'No of times 90 DPD or worse in last 12 months',\n",
      "       'No of times 60 DPD or worse in last 12 months',\n",
      "       'No of times 30 DPD or worse in last 12 months',\n",
      "       'Avgas CC Utilization in last 12 months',\n",
      "       'No of trades opened in last 6 months',\n",
      "       'No of trades opened in last 12 months',\n",
      "       'No of PL trades opened in last 6 months',\n",
      "       'No of PL trades opened in last 12 months',\n",
      "       'No of Inquiries in last 6 months (excluding home & auto loans)',\n",
      "       'No of Inquiries in last 12 months (excluding home & auto loans)',\n",
      "       'Presence of open home loan', 'Outstanding Balance',\n",
      "       'Total No of Trades', 'Presence of open auto loan'],\n",
      "      dtype='object')\n"
     ]
    }
   ],
   "source": [
    "print(DC.columns)"
   ]
  },
  {
   "cell_type": "code",
   "execution_count": 113,
   "id": "bf8f3f66-3b18-4246-ae2f-db58315da646",
   "metadata": {},
   "outputs": [],
   "source": [
    "data = DC.copy()                               # Create duplicate of data\n",
    "data = data.replace(r'^s*$', float('NaN'), regex = True)  # Replace blanks by NaN"
   ]
  },
  {
   "cell_type": "code",
   "execution_count": 114,
   "id": "d21e3ecb-4bfb-4f7d-bcb2-3c74b234cdb2",
   "metadata": {},
   "outputs": [],
   "source": [
    "data2 = data.copy()                          # Create duplicate of data\n",
    "data2.dropna(inplace = True)                      # Remove rows with NaN"
   ]
  },
  {
   "cell_type": "code",
   "execution_count": 115,
   "id": "feba0be5-ce9e-4a35-aae7-6642e123ae5b",
   "metadata": {},
   "outputs": [],
   "source": [
    "from sklearn.model_selection import train_test_split\n",
    "from sklearn.preprocessing import StandardScaler\n",
    "X_train, X_test, y_train, y_test = train_test_split(DC.iloc[:, :-1], DC.iloc[:, -1:], test_size = 0.3, random_state=1)"
   ]
  },
  {
   "cell_type": "code",
   "execution_count": 116,
   "id": "52d998c4-b496-47e0-bc5a-55db5252d867",
   "metadata": {},
   "outputs": [],
   "source": [
    "sc = StandardScaler()\n",
    "sc.fit(X_train)\n",
    "X_train_std = sc.transform(X_train)\n",
    "X_test_std = sc.transform(X_test)"
   ]
  },
  {
   "cell_type": "code",
   "execution_count": 117,
   "id": "af7a043e-a9b7-4f0b-a77b-9735ddf61c7d",
   "metadata": {},
   "outputs": [],
   "source": [
    "cols = ['Application ID', 'Age', 'Gender',\n",
    "       'Marital Status (at the time of application)', 'No of dependents',\n",
    "       'Income', 'Education', 'Type of residence',\n",
    "       'No of months in current residence', 'No of months in current company',\n",
    "       'Performance Tag_x', 'Unnamed: 0',\n",
    "       'No of times 90 DPD or worse in last 6 months',\n",
    "       'No of times 60 DPD or worse in last 6 months',\n",
    "       'No of times 30 DPD or worse in last 6 months',\n",
    "       'No of times 90 DPD or worse in last 12 months',\n",
    "       'No of times 60 DPD or worse in last 12 months',\n",
    "       'No of times 30 DPD or worse in last 12 months',\n",
    "       'Avgas CC Utilization in last 12 months',\n",
    "       'No of trades opened in last 6 months',\n",
    "       'No of trades opened in last 12 months',\n",
    "       'No of PL trades opened in last 6 months',\n",
    "       'No of PL trades opened in last 12 months',\n",
    "       'No of Inquiries in last 6 months (excluding home & auto loans)',\n",
    "       'No of Inquiries in last 12 months (excluding home & auto loans)',\n",
    "       'Presence of open home loan', 'Outstanding Balance',\n",
    "       'Total No of Trades', 'Presence of open auto loan',\n",
    "       'Performance Tag']"
   ]
  },
  {
   "cell_type": "code",
   "execution_count": 119,
   "id": "ec299b7a-e129-4b01-9c9c-37ba77ec5742",
   "metadata": {},
   "outputs": [
    {
     "name": "stdout",
     "output_type": "stream",
     "text": [
      "[0.03610078 0.03561925 0.         0.00939154 0.02709046 0.03620531\n",
      " 0.02579586 0.01768112 0.02710935 0.03642792 0.00530663 0.04612689\n",
      " 0.03656516 0.00486622 0.00575289 0.0078252  0.0092862  0.00996092\n",
      " 0.01165538 0.03684115 0.02532932 0.03444052 0.02094936 0.0637444\n",
      " 0.02411808 0.02752678 0.02205643 0.32256651 0.03366037]\n"
     ]
    }
   ],
   "source": [
    "from sklearn.ensemble import RandomForestClassifier\n",
    "\n",
    "array = DC.values\n",
    "X = array[:,0:29]\n",
    "Y = array[:,29]\n",
    "# feature extraction\n",
    "model = ExtraTreesClassifier(n_estimators=30)\n",
    "model.fit(X, Y)\n",
    "print(model.feature_importances_)"
   ]
  },
  {
   "cell_type": "code",
   "execution_count": 120,
   "id": "ade916aa-e4d3-42bf-a08e-38980b835d1d",
   "metadata": {},
   "outputs": [],
   "source": [
    "from sklearn.tree import DecisionTreeClassifier # Import Decision Tree Classifier\n",
    "from sklearn.model_selection import train_test_split # Import train_test_split function\n",
    "from sklearn import metrics"
   ]
  },
  {
   "cell_type": "code",
   "execution_count": 130,
   "id": "64fd050b-03d2-4483-ac56-498c994369b8",
   "metadata": {},
   "outputs": [],
   "source": [
    "feature_cols = ['No of months in current company', 'Income', 'Age', 'No of times 90 DPD or worse in last 6 months','No of trades opened in last 6 months', 'Total No of Trades', 'Education']\n",
    "X = DC[feature_cols] # Features\n",
    "y = DC['Performance Tag']"
   ]
  },
  {
   "cell_type": "code",
   "execution_count": 131,
   "id": "4d2bfb42-5f28-4194-ae3b-0a1934296335",
   "metadata": {},
   "outputs": [],
   "source": [
    "X_train, X_test, y_train, y_test = train_test_split(X, y, test_size=0.3, random_state=1) # 70% training and 30% test"
   ]
  },
  {
   "cell_type": "code",
   "execution_count": 132,
   "id": "30b9b5a9-9529-48a2-933a-862e934dbf2d",
   "metadata": {},
   "outputs": [],
   "source": [
    "# Create Decision Tree classifer object\n",
    "clf = DecisionTreeClassifier()\n",
    "\n",
    "# Train Decision Tree Classifer\n",
    "clf = clf.fit(X_train,y_train)\n",
    "\n",
    "#Predict the response for test dataset\n",
    "y_pred = clf.predict(X_test)"
   ]
  },
  {
   "cell_type": "code",
   "execution_count": 133,
   "id": "af228c38-c741-4a9f-b61f-acad49e06d6d",
   "metadata": {},
   "outputs": [
    {
     "name": "stdout",
     "output_type": "stream",
     "text": [
      "Accuracy: 0.9124183006535947\n"
     ]
    }
   ],
   "source": [
    "print(\"Accuracy:\",metrics.accuracy_score(y_test, y_pred))"
   ]
  },
  {
   "cell_type": "code",
   "execution_count": 134,
   "id": "07fd82f7-3b3a-4b63-a8b5-e73a732fd9d4",
   "metadata": {},
   "outputs": [
    {
     "data": {
      "text/plain": [
       "LinearRegression()"
      ]
     },
     "execution_count": 134,
     "metadata": {},
     "output_type": "execute_result"
    }
   ],
   "source": [
    "from sklearn.linear_model import LinearRegression\n",
    "regressor = LinearRegression()\n",
    "regressor.fit(X_train, y_train)"
   ]
  },
  {
   "cell_type": "code",
   "execution_count": 135,
   "id": "3725f0ca-08ba-4184-86c7-bc0accb85436",
   "metadata": {},
   "outputs": [
    {
     "name": "stdout",
     "output_type": "stream",
     "text": [
      "0.03442321376031197\n"
     ]
    }
   ],
   "source": [
    "print(regressor.intercept_)"
   ]
  },
  {
   "cell_type": "code",
   "execution_count": 136,
   "id": "4d09f9d9-a5a2-4472-bec2-f3beaed8c3cb",
   "metadata": {},
   "outputs": [
    {
     "name": "stdout",
     "output_type": "stream",
     "text": [
      "[-1.66956300e-04 -2.49868383e-04  3.21537951e-05  2.63675846e-02\n",
      "  5.89904799e-03 -6.30711837e-04  1.51479704e-03]\n"
     ]
    }
   ],
   "source": [
    "print(regressor.coef_)"
   ]
  },
  {
   "cell_type": "code",
   "execution_count": 137,
   "id": "9baa8a33-7a8e-4f91-9317-6d0e88cd1766",
   "metadata": {},
   "outputs": [
    {
     "data": {
      "text/html": [
       "<div>\n",
       "<style scoped>\n",
       "    .dataframe tbody tr th:only-of-type {\n",
       "        vertical-align: middle;\n",
       "    }\n",
       "\n",
       "    .dataframe tbody tr th {\n",
       "        vertical-align: top;\n",
       "    }\n",
       "\n",
       "    .dataframe thead th {\n",
       "        text-align: right;\n",
       "    }\n",
       "</style>\n",
       "<table border=\"1\" class=\"dataframe\">\n",
       "  <thead>\n",
       "    <tr style=\"text-align: right;\">\n",
       "      <th></th>\n",
       "      <th>Coefficient</th>\n",
       "    </tr>\n",
       "  </thead>\n",
       "  <tbody>\n",
       "    <tr>\n",
       "      <th>No of months in current company</th>\n",
       "      <td>-0.000167</td>\n",
       "    </tr>\n",
       "    <tr>\n",
       "      <th>Income</th>\n",
       "      <td>-0.000250</td>\n",
       "    </tr>\n",
       "    <tr>\n",
       "      <th>Age</th>\n",
       "      <td>0.000032</td>\n",
       "    </tr>\n",
       "    <tr>\n",
       "      <th>No of times 90 DPD or worse in last 6 months</th>\n",
       "      <td>0.026368</td>\n",
       "    </tr>\n",
       "    <tr>\n",
       "      <th>No of trades opened in last 6 months</th>\n",
       "      <td>0.005899</td>\n",
       "    </tr>\n",
       "    <tr>\n",
       "      <th>Total No of Trades</th>\n",
       "      <td>-0.000631</td>\n",
       "    </tr>\n",
       "    <tr>\n",
       "      <th>Education</th>\n",
       "      <td>0.001515</td>\n",
       "    </tr>\n",
       "  </tbody>\n",
       "</table>\n",
       "</div>"
      ],
      "text/plain": [
       "                                              Coefficient\n",
       "No of months in current company                 -0.000167\n",
       "Income                                          -0.000250\n",
       "Age                                              0.000032\n",
       "No of times 90 DPD or worse in last 6 months     0.026368\n",
       "No of trades opened in last 6 months             0.005899\n",
       "Total No of Trades                              -0.000631\n",
       "Education                                        0.001515"
      ]
     },
     "execution_count": 137,
     "metadata": {},
     "output_type": "execute_result"
    }
   ],
   "source": [
    "coeff_df = pd.DataFrame(regressor.coef_, X.columns, columns=['Coefficient'])\n",
    "coeff_df"
   ]
  },
  {
   "cell_type": "code",
   "execution_count": 129,
   "id": "e382603e-5c19-40f2-910b-626b1af716f1",
   "metadata": {},
   "outputs": [
    {
     "name": "stdout",
     "output_type": "stream",
     "text": [
      "Mean Absolute Error: 0.08743645606390704\n",
      "Mean Squared Error: 0.08743645606390704\n",
      "Root Mean Squared Error: 0.295696560791476\n"
     ]
    }
   ],
   "source": [
    "from sklearn import metrics\n",
    "import numpy as np\n",
    "print('Mean Absolute Error:', metrics.mean_absolute_error(y_test, y_pred))\n",
    "print('Mean Squared Error:', metrics.mean_squared_error(y_test, y_pred))\n",
    "print('Root Mean Squared Error:', np.sqrt(metrics.mean_squared_error(y_test, y_pred)))"
   ]
  },
  {
   "cell_type": "code",
   "execution_count": 138,
   "id": "cbc278fb-3e47-4a93-b882-992db0f61649",
   "metadata": {},
   "outputs": [],
   "source": [
    "X = DC[['No of dependents', 'Income', 'Age', 'No of times 90 DPD or worse in last 6 months','No of trades opened in last 6 months', 'Total No of Trades', 'Outstanding Balance']]\n",
    "y = DC['Performance Tag']\n",
    "from sklearn.model_selection import train_test_split\n",
    "X_train, X_test, y_train, y_test = train_test_split(X, y, test_size=0.3, random_state=1)"
   ]
  },
  {
   "cell_type": "code",
   "execution_count": 139,
   "id": "56a07131-ef9f-4c9a-a245-38c39ffaf89f",
   "metadata": {},
   "outputs": [
    {
     "data": {
      "text/plain": [
       "LinearRegression()"
      ]
     },
     "execution_count": 139,
     "metadata": {},
     "output_type": "execute_result"
    }
   ],
   "source": [
    "from sklearn.linear_model import LinearRegression\n",
    "regressor = LinearRegression()\n",
    "regressor.fit(X_train, y_train)"
   ]
  },
  {
   "cell_type": "code",
   "execution_count": 140,
   "id": "a4ceac33-b36f-4938-a802-1c9fcba9e168",
   "metadata": {},
   "outputs": [
    {
     "data": {
      "text/html": [
       "<div>\n",
       "<style scoped>\n",
       "    .dataframe tbody tr th:only-of-type {\n",
       "        vertical-align: middle;\n",
       "    }\n",
       "\n",
       "    .dataframe tbody tr th {\n",
       "        vertical-align: top;\n",
       "    }\n",
       "\n",
       "    .dataframe thead th {\n",
       "        text-align: right;\n",
       "    }\n",
       "</style>\n",
       "<table border=\"1\" class=\"dataframe\">\n",
       "  <thead>\n",
       "    <tr style=\"text-align: right;\">\n",
       "      <th></th>\n",
       "      <th>Coefficient</th>\n",
       "    </tr>\n",
       "  </thead>\n",
       "  <tbody>\n",
       "    <tr>\n",
       "      <th>No of dependents</th>\n",
       "      <td>-3.910926e-04</td>\n",
       "    </tr>\n",
       "    <tr>\n",
       "      <th>Income</th>\n",
       "      <td>-2.222173e-04</td>\n",
       "    </tr>\n",
       "    <tr>\n",
       "      <th>Age</th>\n",
       "      <td>4.743445e-05</td>\n",
       "    </tr>\n",
       "    <tr>\n",
       "      <th>No of times 90 DPD or worse in last 6 months</th>\n",
       "      <td>2.705910e-02</td>\n",
       "    </tr>\n",
       "    <tr>\n",
       "      <th>No of trades opened in last 6 months</th>\n",
       "      <td>6.018648e-03</td>\n",
       "    </tr>\n",
       "    <tr>\n",
       "      <th>Total No of Trades</th>\n",
       "      <td>-6.620930e-04</td>\n",
       "    </tr>\n",
       "    <tr>\n",
       "      <th>Outstanding Balance</th>\n",
       "      <td>-5.372797e-10</td>\n",
       "    </tr>\n",
       "  </tbody>\n",
       "</table>\n",
       "</div>"
      ],
      "text/plain": [
       "                                               Coefficient\n",
       "No of dependents                             -3.910926e-04\n",
       "Income                                       -2.222173e-04\n",
       "Age                                           4.743445e-05\n",
       "No of times 90 DPD or worse in last 6 months  2.705910e-02\n",
       "No of trades opened in last 6 months          6.018648e-03\n",
       "Total No of Trades                           -6.620930e-04\n",
       "Outstanding Balance                          -5.372797e-10"
      ]
     },
     "execution_count": 140,
     "metadata": {},
     "output_type": "execute_result"
    }
   ],
   "source": [
    "coeff_df = pd.DataFrame(regressor.coef_, X.columns, columns=['Coefficient'])\n",
    "coeff_df"
   ]
  },
  {
   "cell_type": "code",
   "execution_count": 141,
   "id": "2c2a2832-4809-4f59-83a6-50912f9082b4",
   "metadata": {},
   "outputs": [
    {
     "name": "stdout",
     "output_type": "stream",
     "text": [
      "0.03220265292424519\n"
     ]
    }
   ],
   "source": [
    "print(regressor.intercept_)"
   ]
  },
  {
   "cell_type": "code",
   "execution_count": null,
   "id": "6d58b19f-d0dd-4812-afa9-deee14ab6e60",
   "metadata": {},
   "outputs": [],
   "source": [
    "X = DC[['No of dependents', 'Income', 'Age', 'No of times 90 DPD or worse in last 6 months','No of trades opened in last 6 months', 'Total No of Trades', 'Outstanding Balance']]\n",
    "y = DC['Performance Tag']\n",
    "from sklearn.model_selection import train_test_split\n",
    "X_train, X_test, y_train, y_test = train_test_split(X, y, test_size=0.3, random_state=1)"
   ]
  }
 ],
 "metadata": {
  "kernelspec": {
   "display_name": "Python 3",
   "language": "python",
   "name": "python3"
  },
  "language_info": {
   "codemirror_mode": {
    "name": "ipython",
    "version": 3
   },
   "file_extension": ".py",
   "mimetype": "text/x-python",
   "name": "python",
   "nbconvert_exporter": "python",
   "pygments_lexer": "ipython3",
   "version": "3.8.8"
  }
 },
 "nbformat": 4,
 "nbformat_minor": 5
}
